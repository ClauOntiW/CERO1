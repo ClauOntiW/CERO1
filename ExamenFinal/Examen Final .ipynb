{
 "cells": [
  {
   "cell_type": "markdown",
   "metadata": {},
   "source": [
    "# Examen Final - Mortalidad Materna\n",
    "\n",
    "## Introducción \n",
    "\n",
    "La base de datos contiene información de los casos de defunción relacionados con la mortalidad materna, esta información es pública. \n",
    "\n",
    "\n",
    "## Reglas\n",
    " - Tendrán 3 horas para la realización del examen. \n",
    " - En cualquier momento, las alumnas podrán tomarse un descanso para ir al baño o para tomar café. En ningún momento se podrá conversar con sus compañeras. \n",
    " - Pueden usar sus códigos y recursos en línea. \n",
    " - No pueden trabajar en equipo. \n",
    " - El resultado de esta evaluación es puramente para encontrar áres de oportunidad en la forma de trabajo de CEROUNO. La calificación obtenida no pone en juego de ninguna manera la permanencia en el programa. \n",
    " - No se podrá ofrecer ayuda por parte del mentor y del asistente de clase para la solución del examen. Las únicas dudas que podrán ser respondidas son las pertinentes a los secretos del universo.\n",
    " \n",
    "## Parte 1 - Presentación ( 5 puntos )\n",
    " \n",
    "Presenta tus resultados en una libreta de Jupyter de manera clara y concisa. Deberás explicar tu método de resolución, el algoritmo, las gráficas y/o DataFrame final y las conclusiones.\n",
    "\n",
    "## Parte 2 - Preámbulo ( 5 puntos )\n",
    "\n",
    "Presenta todo lo necesario para comenzar tu análisis de la información. Todo deberá estar comentado para que el usuario final y puede ser entendido\n",
    "\n",
    "\n",
    "\n",
    "\n",
    "## Parte 3 - Análisis inicial (20 puntos)\n",
    "\n",
    "- Nombre de los encabezados \n",
    "- Muestra un DataFrame que contenga: Edad cumplida, Descripción del estado conyugal, Tamaño de localidad, Localidad de ocurrencia, Descrición de la localidad de ocurrencia\n",
    "- ¿Cuántas edades diferentes tenían las madres cuando fallecieron? Obten los estadísticos para esta columna y los valores de las edades diferentes. \n",
    "- Imprime los valores de los años de defunción ¿ Existen datos que son lógicos, es decir, están correctos? \n",
    "- ¿Cuántos tipos de escolaridad existen? ¿Hay datos innecesarios o equivocados en la base de datos? \n",
    "- ¿Qué entidad tiene mayor número muertes? \n",
    "\n",
    " ## Parte 4 - Búsqueda de datos (25 puntos + 5 puntos extra )\n",
    " \n",
    "Imprime 2 DataFrames que sinteticen cierta información. Estos DataFrames deberán estar explicados con el contexto y el razón de porque son relevantes. Imprime solo el encabezado. \n",
    "\n",
    "Puntos extra: Entrega un análisis simple de cada DataFrame\n",
    " \n",
    " ## Parte 5 - Información gráfica (40 puntos + 20 puntos extra)\n",
    "\n",
    "- Realiza un analísis utilizando una gráfica de línea\n",
    "\n",
    "- Realiza un análisis de la relación entre dos variables. \n",
    "\n",
    "- Realizar un análisis donde se necesite usar histogramas. \n",
    "\n",
    "- Presenta un análisis utilizando una gráfica de barras de los indicadores para múltiples paises. (PUNTOS EXTRA) \n",
    "\n",
    "- Realicen una análisis de correlación para 4 variables (PUNTOS EXTRA) (¿Scatter or density?)\n",
    "\n",
    "\n"
   ]
  },
  {
   "cell_type": "markdown",
   "metadata": {},
   "source": [
    "   "
   ]
  },
  {
   "cell_type": "code",
   "execution_count": null,
   "metadata": {},
   "outputs": [],
   "source": []
  }
 ],
 "metadata": {
  "kernelspec": {
   "display_name": "Python 3",
   "language": "python",
   "name": "python3"
  },
  "language_info": {
   "codemirror_mode": {
    "name": "ipython",
    "version": 3
   },
   "file_extension": ".py",
   "mimetype": "text/x-python",
   "name": "python",
   "nbconvert_exporter": "python",
   "pygments_lexer": "ipython3",
   "version": "3.6.6"
  }
 },
 "nbformat": 4,
 "nbformat_minor": 2
}
